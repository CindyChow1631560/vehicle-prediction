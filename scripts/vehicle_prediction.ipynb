{
 "cells": [
  {
   "cell_type": "markdown",
   "metadata": {},
   "source": [
    "# YanCheng Vehicle Sales Prediction"
   ]
  },
  {
   "cell_type": "code",
   "execution_count": 5,
   "metadata": {
    "scrolled": false
   },
   "outputs": [
    {
     "name": "stderr",
     "output_type": "stream",
     "text": [
      "C:\\Users\\asus\\Anaconda3\\lib\\site-packages\\IPython\\core\\interactiveshell.py:2717: DtypeWarning: Columns (15,28) have mixed types. Specify dtype option on import or set low_memory=False.\n",
      "  interactivity=interactivity, compiler=compiler, result=result)\n"
     ]
    }
   ],
   "source": [
    "import numpy as np\n",
    "import pandas as pd\n",
    "import matplotlib.pyplot as plt\n",
    "from sklearn.model_selection import ShuffleSplit,GridSearchCV,StratifiedShuffleSplit\n",
    "from sklearn.neighbors import KNeighborsClassifier\n",
    "from sklearn.ensemble import RandomForestRegressor,AdaBoostRegressor\n",
    "from sklearn.tree import DecisionTreeClassifier\n",
    "from sklearn.feature_selection import RFECV\n",
    "from sklearn.svm import SVR\n",
    "from sklearn.linear_model import LogisticRegression,SGDRegressor\n",
    "from sklearn.preprocessing import OneHotEncoder\n",
    "train=pd.read_csv('../data/train.csv')\n",
    "test=pd.read_csv('../data/test.csv')"
   ]
  },
  {
   "cell_type": "code",
   "execution_count": 8,
   "metadata": {},
   "outputs": [
    {
     "data": {
      "text/plain": [
       "class_id  sale_date\n",
       "103507    201503        19.333333\n",
       "          201504        38.666667\n",
       "          201505        37.666667\n",
       "          201506        40.857143\n",
       "          201507        49.500000\n",
       "          201508        88.750000\n",
       "          201509        63.142857\n",
       "          201510       175.000000\n",
       "          201511        80.166667\n",
       "          201512       286.600000\n",
       "          201601       110.333333\n",
       "          201602       119.125000\n",
       "          201603        92.857143\n",
       "          201604        72.500000\n",
       "          201605       193.000000\n",
       "          201606       207.250000\n",
       "          201607        94.500000\n",
       "          201608       135.333333\n",
       "          201609       228.000000\n",
       "          201610       210.666667\n",
       "          201611       292.000000\n",
       "          201612       826.500000\n",
       "          201701       249.500000\n",
       "          201702       217.500000\n",
       "          201703       123.666667\n",
       "          201704       145.000000\n",
       "          201705       214.500000\n",
       "          201706       185.500000\n",
       "          201707       156.500000\n",
       "          201708        90.000000\n",
       "                          ...    \n",
       "978089    201505        83.600000\n",
       "          201506        74.400000\n",
       "          201507        71.333333\n",
       "          201508       100.600000\n",
       "          201509       107.571429\n",
       "          201510       112.857143\n",
       "          201511        94.142857\n",
       "          201512       214.000000\n",
       "          201601       130.200000\n",
       "          201602       124.600000\n",
       "          201603       100.833333\n",
       "          201604        86.285714\n",
       "          201605       122.500000\n",
       "          201606        94.800000\n",
       "          201607       132.500000\n",
       "          201608       130.250000\n",
       "          201609       118.500000\n",
       "          201610       100.600000\n",
       "          201611       100.000000\n",
       "          201612       260.500000\n",
       "          201701       139.500000\n",
       "          201702       123.500000\n",
       "          201703       137.000000\n",
       "          201704       116.500000\n",
       "          201705       128.000000\n",
       "          201706        95.250000\n",
       "          201707        67.500000\n",
       "          201708       104.750000\n",
       "          201709       100.250000\n",
       "          201710       200.000000\n",
       "Name: sale_quantity, Length: 5587, dtype: float64"
      ]
     },
     "execution_count": 8,
     "metadata": {},
     "output_type": "execute_result"
    }
   ],
   "source": [
    "grouped=train[\"sale_quantity\"].groupby([train[\"class_id\"],train[\"sale_date\"]])\n",
    "grouped.mean()"
   ]
  },
  {
   "cell_type": "code",
   "execution_count": 18,
   "metadata": {
    "scrolled": true
   },
   "outputs": [
    {
     "data": {
      "text/plain": [
       "class_id\n",
       "103507    132.441860\n",
       "124140     85.778626\n",
       "125403     48.156863\n",
       "136916     63.141618\n",
       "169673    116.200000\n",
       "175962     83.241935\n",
       "178529    138.271812\n",
       "186250    128.666667\n",
       "194201    308.500000\n",
       "194450     45.166667\n",
       "198427     53.584416\n",
       "206765    402.322222\n",
       "209945     71.039474\n",
       "219195     70.466102\n",
       "221795     76.800000\n",
       "245609     33.275862\n",
       "248352    137.930085\n",
       "249875     36.400000\n",
       "250658     93.566667\n",
       "265980    123.037267\n",
       "270690    295.809091\n",
       "281301    156.993902\n",
       "281792    103.373913\n",
       "289386     82.175439\n",
       "289403     64.416667\n",
       "290854     50.726316\n",
       "291086    213.088710\n",
       "291514     37.857143\n",
       "302513     49.666667\n",
       "304458     76.432277\n",
       "             ...    \n",
       "745137    118.427938\n",
       "750340     78.078431\n",
       "760412     14.960000\n",
       "786351    167.917476\n",
       "789290     18.235294\n",
       "810398     44.913043\n",
       "815230    107.500000\n",
       "819061    180.825581\n",
       "842246    154.400000\n",
       "851857     89.500000\n",
       "854079    103.429577\n",
       "854548     40.052632\n",
       "861459    111.466667\n",
       "871642     57.311377\n",
       "872180     90.500000\n",
       "883691     99.671642\n",
       "890189    453.105263\n",
       "905061    104.666667\n",
       "905745     65.201258\n",
       "914348     83.706856\n",
       "923841    191.591346\n",
       "924154    507.477612\n",
       "948936    102.461538\n",
       "950264    227.648148\n",
       "953842    388.060000\n",
       "961362     20.781513\n",
       "961962     39.860360\n",
       "963845    102.040404\n",
       "973106     43.531250\n",
       "978089    105.127551\n",
       "Name: sale_quantity, Length: 140, dtype: float64"
      ]
     },
     "execution_count": 18,
     "metadata": {},
     "output_type": "execute_result"
    }
   ],
   "source": [
    "grouped1=train[\"sale_quantity\"].groupby(train[\"class_id\"])\n",
    "grouped1.mean()"
   ]
  },
  {
   "cell_type": "markdown",
   "metadata": {},
   "source": [
    "#数据预处理\n",
    "columnNames=[\"brand_id\",\"class_id\"]\n",
    "for colums in columnNames:\n",
    "    train_dummies=pd.get_dummies(train[colums],prefix=colums)\n",
    "    train=pd.concat([train,train_dummies],axis=1)\n",
    "    {\n",
    "            \"name\": \"RandomForestRegressor\",\n",
    "            \"estimator\": SGDRegressor(random_state=0),\n",
    "            \"hyperparameters\":\n",
    "            {\n",
    "                \"penalty\": [\"l2\",\"l1\",\"elasticnet\"],\n",
    "                \"alpha\": np.logspace(-9, 3, 13),\n",
    "                \"learning_rate\": [\"constant\",\"optimal\",\"invscaling\"]\n",
    "            }\n",
    "        },\n",
    "        {\n",
    "            \"name\": \"SVR\",\n",
    "            \"estimator\": SVR(),\n",
    "            \"hyperparameters\":\n",
    "            {\n",
    "                \"kernel\": [\"rbf\"],\n",
    "                \"C\": np.logspace(-9, 3, 13),\n",
    "                \"gamma\": np.logspace(-9, 3, 13)\n",
    "            }\n",
    "        }"
   ]
  },
  {
   "cell_type": "code",
   "execution_count": 19,
   "metadata": {
    "collapsed": true,
    "scrolled": true
   },
   "outputs": [],
   "source": [
    "t=pd.concat([train[\"brand_id\"],train[\"class_id\"],train[\"sale_date\"]],axis=1)\n",
    "t.head(5)\n",
    "b=OneHotEncoder()\n",
    "brand=b.fit(t)"
   ]
  },
  {
   "cell_type": "code",
   "execution_count": 20,
   "metadata": {
    "collapsed": true
   },
   "outputs": [],
   "source": [
    "#模型选择\n",
    "def get_model(df,features):\n",
    "    train_x=df[features]\n",
    "    train_y=df[\"sale_quantity\"]\n",
    "    cv=ShuffleSplit(n_splits=10,train_size=0.7,test_size=0.3,random_state=0)\n",
    "    model_param=[\n",
    "        {\n",
    "            \"name\": \"AdaBoostRegressor\",\n",
    "            \"estimator\": AdaBoostRegressor(random_state=0),\n",
    "            \"hyperparameters\":\n",
    "            {\n",
    "                \"n_estimators\": [20,50,80,110],\n",
    "                \"learning_rate\":  np.logspace(-9, 3, 13)\n",
    "            }\n",
    "        },\n",
    "        {\n",
    "            \"name\": \"RandomForestRegressor\",\n",
    "            \"estimator\": SGDRegressor(random_state=0),\n",
    "            \"hyperparameters\":\n",
    "            {\n",
    "                \"penalty\": [\"l2\",\"l1\",\"elasticnet\"],\n",
    "                \"alpha\": np.logspace(-9, 3, 13),\n",
    "                \"learning_rate\": [\"constant\",\"optimal\",\"invscaling\"]\n",
    "            }\n",
    "        }\n",
    "    ]\n",
    "    models=[]\n",
    "    for model in model_param:\n",
    "        grid=GridSearchCV(estimator=model[\"estimator\"],param_grid=model[\"hyperparameters\"],cv=10)\n",
    "        grid.fit(train_x,train_y)\n",
    "    \n",
    "        model_att={\n",
    "            \"model\": grid.best_estimator_,\n",
    "            \"best_param\": grid.best_params_,\n",
    "            \"best_score\": grid.best_score_,\n",
    "            \"grid\":grid    \n",
    "        }\n",
    "        models.append(model_att)\n",
    "        print(\"model and its parameters:\")\n",
    "        print(grid.best_params_)\n",
    "        print(grid.best_score_)\n",
    "    return models"
   ]
  },
  {
   "cell_type": "code",
   "execution_count": 21,
   "metadata": {
    "collapsed": true
   },
   "outputs": [],
   "source": [
    "## feature selection using RFECV\n",
    "def get_features(df,features,model=None):\n",
    "    newDf=df.copy()\n",
    "    newDf = newDf.select_dtypes(['number'])\n",
    "    newDf = newDf.dropna(axis=1, how='any')\n",
    "    all_X = newDf[features]\n",
    "    all_y = df[\"sale_quantity\"]\n",
    "    cv=StratifiedShuffleSplit(n_splits=10,train_size=.7,test_size=.3,random_state=0)\n",
    "    if model==None:\n",
    "        regressor=AdaBoostRegressorn(n_estimators=100)\n",
    "    else:\n",
    "        regressor=model\n",
    "    selector = RFECV(regressor, scoring = 'roc_auc', cv=cv, step = 1)\n",
    "    selector.fit(all_X,all_y) \n",
    "    rfecv_columns = all_X.columns[selector.support_]\n",
    "    return rfecv_columns"
   ]
  },
  {
   "cell_type": "code",
   "execution_count": 27,
   "metadata": {
    "scrolled": true
   },
   "outputs": [
    {
     "name": "stdout",
     "output_type": "stream",
     "text": [
      "model and its parameters:\n",
      "{'learning_rate': 1e-08, 'n_estimators': 110}\n",
      "-0.324760194901\n",
      "model and its parameters:\n",
      "{'alpha': 1000.0, 'learning_rate': 'optimal', 'penalty': 'l2'}\n",
      "-3.75450799831e+26\n"
     ]
    }
   ],
   "source": [
    "features=[\"brand_id\",\"class_id\"]\n",
    "models = get_model(train,features)"
   ]
  },
  {
   "cell_type": "code",
   "execution_count": 28,
   "metadata": {
    "collapsed": true
   },
   "outputs": [],
   "source": [
    "#select the best one based on its index from console\n",
    "best_grid=models[0][\"grid\"]\n",
    "best_regressor=models[0][\"model\"]\n",
    "best_param=models[0][\"best_param\"]"
   ]
  },
  {
   "cell_type": "code",
   "execution_count": 32,
   "metadata": {
    "collapsed": true
   },
   "outputs": [],
   "source": [
    "predictions=best_regressor.predict(pd.concat([test[\"predict_date\"],test[\"class_id\"]],axis=1))"
   ]
  },
  {
   "cell_type": "code",
   "execution_count": 33,
   "metadata": {
    "collapsed": true
   },
   "outputs": [],
   "source": [
    "sub={\"predict_date\": test[\"predict_date\"],\"class_id\": test[\"class_id\"],\"predict_quantity\": predictions}\n",
    "submission=pd.DataFrame(sub)\n",
    "submission.to_csv(path_or_buf=\"Submission.csv\", index=False, header=True)"
   ]
  }
 ],
 "metadata": {
  "kernelspec": {
   "display_name": "Python 3",
   "language": "python",
   "name": "python3"
  },
  "language_info": {
   "codemirror_mode": {
    "name": "ipython",
    "version": 3
   },
   "file_extension": ".py",
   "mimetype": "text/x-python",
   "name": "python",
   "nbconvert_exporter": "python",
   "pygments_lexer": "ipython3",
   "version": "3.6.1"
  }
 },
 "nbformat": 4,
 "nbformat_minor": 2
}
